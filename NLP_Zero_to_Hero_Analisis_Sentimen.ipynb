{
  "nbformat": 4,
  "nbformat_minor": 0,
  "metadata": {
    "colab": {
      "provenance": [],
      "authorship_tag": "ABX9TyN3yPWZkrnDQbtCl3cZ8DLt",
      "include_colab_link": true
    },
    "kernelspec": {
      "name": "python3",
      "display_name": "Python 3"
    },
    "language_info": {
      "name": "python"
    }
  },
  "cells": [
    {
      "cell_type": "markdown",
      "metadata": {
        "id": "view-in-github",
        "colab_type": "text"
      },
      "source": [
        "<a href=\"https://colab.research.google.com/github/odeandialamsyah/nlp_zero_to_hero/blob/main/NLP_Zero_to_Hero_Analisis_Sentimen.ipynb\" target=\"_parent\"><img src=\"https://colab.research.google.com/assets/colab-badge.svg\" alt=\"Open In Colab\"/></a>"
      ]
    },
    {
      "cell_type": "markdown",
      "source": [
        "Untuk analisis sentimen, ada beberapa pendekatan. Untuk praktik awal yang mudah dan cepat, kita akan menggunakan TextBlob, sebuah library yang menyediakan API sederhana untuk analisis sentimen (terutama untuk Bahasa Inggris). Untuk Bahasa Indonesia, ini akan lebih kompleks dan seringkali memerlukan model Machine Learning yang dilatih khusus."
      ],
      "metadata": {
        "id": "-ax4UdzcYpZN"
      }
    },
    {
      "cell_type": "markdown",
      "source": [
        "Untuk Bahasa Indonesia, TextBlob tidak punya model langsung.\n",
        "Kita akan tunjukkan contohnya dengan Bahasa Inggris, atau sebutkan tantangannya untuk B.Indonesia.\n",
        "Untuk B.Indonesia, kita bisa gunakan kamus sentimen atau model ML/DL.\n",
        "Mari kita gunakan teks Inggris untuk contoh ini agar TextBlob bisa bekerja."
      ],
      "metadata": {
        "id": "pJwN7TqgYfZU"
      }
    },
    {
      "cell_type": "code",
      "source": [
        "from textblob import TextBlob\n",
        "\n",
        "# Contoh Teks (kita gunakan Bahasa Inggris agar TextBlob bekerja optimal)\n",
        "teks_positif = \"I love this product! It's absolutely amazing and works perfectly.\"\n",
        "teks_negatif = \"This movie was terrible. I wasted my money and time.\"\n",
        "teks_netral = \"The sky is blue today. There are many trees in the park.\"\n",
        "teks_campur = \"The food was great, but the service was really slow.\"\n",
        "\n",
        "print(\"\\n--- Analisis Sentimen dengan TextBlob (untuk Bahasa Inggris) ---\")\n",
        "\n",
        "def analyze_sentiment_textblob(text):\n",
        "    analysis = TextBlob(text)\n",
        "    # Properti 'sentiment' mengembalikan tuple (polarity, subjectivity)\n",
        "    # polarity: -1.0 (negatif) sampai +1.0 (positif)\n",
        "    # subjectivity: 0.0 (objektif) sampai +1.0 (subjektif)\n",
        "\n",
        "    polarity = analysis.sentiment.polarity\n",
        "    sentiment_label = \"\"\n",
        "    if polarity > 0.05:\n",
        "        sentiment_label = \"Positif\"\n",
        "    elif polarity < -0.05:\n",
        "        sentiment_label = \"Negatif\"\n",
        "    else:\n",
        "        sentiment_label = \"Netral\"\n",
        "\n",
        "    return polarity, sentiment_label\n",
        "\n",
        "polarity_pos, label_pos = analyze_sentiment_textblob(teks_positif)\n",
        "print(f\"'{teks_positif}'\\n   Polarity: {polarity_pos:.2f}, Sentimen: {label_pos}\")\n",
        "\n",
        "polarity_neg, label_neg = analyze_sentiment_textblob(teks_negatif)\n",
        "print(f\"'{teks_negatif}'\\n   Polarity: {polarity_neg:.2f}, Sentimen: {label_neg}\")\n",
        "\n",
        "polarity_net, label_net = analyze_sentiment_textblob(teks_netral)\n",
        "print(f\"'{teks_netral}'\\n   Polarity: {polarity_net:.2f}, Sentimen: {label_net}\")\n",
        "\n",
        "polarity_mix, label_mix = analyze_sentiment_textblob(teks_campur)\n",
        "print(f\"'{teks_campur}'\\n   Polarity: {polarity_mix:.2f}, Sentimen: {label_mix}\")\n",
        "\n",
        "print(\"-\" * 50)\n",
        "\n",
        "# --- Tantangan untuk Bahasa Indonesia ---\n",
        "print(\"\\n--- Analisis Sentimen untuk Bahasa Indonesia ---\")\n",
        "print(\"TextBlob bekerja optimal untuk Bahasa Inggris. Untuk Bahasa Indonesia, \")\n",
        "print(\"Anda perlu pendekatan yang berbeda, seperti:\")\n",
        "print(\"1. Menggunakan kamus sentimen (leksikon) Bahasa Indonesia yang sudah ada.\")\n",
        "print(\"2. Melatih model Machine Learning atau Deep Learning Anda sendiri pada dataset berlabel Bahasa Indonesia.\")\n",
        "print(\"3. Menggunakan layanan API Sentimen dari pihak ketiga yang mendukung Bahasa Indonesia.\")\n",
        "print(\"Ini akan menjadi langkah yang lebih kompleks, memerlukan data berlabel atau leksikon spesifik.\")"
      ],
      "metadata": {
        "colab": {
          "base_uri": "https://localhost:8080/"
        },
        "id": "txmtxL8kYOBK",
        "outputId": "8e646fd7-9954-4679-eba2-656690d0f026"
      },
      "execution_count": 2,
      "outputs": [
        {
          "output_type": "stream",
          "name": "stdout",
          "text": [
            "\n",
            "--- Analisis Sentimen dengan TextBlob (untuk Bahasa Inggris) ---\n",
            "'I love this product! It's absolutely amazing and works perfectly.'\n",
            "   Polarity: 0.74, Sentimen: Positif\n",
            "'This movie was terrible. I wasted my money and time.'\n",
            "   Polarity: -0.60, Sentimen: Negatif\n",
            "'The sky is blue today. There are many trees in the park.'\n",
            "   Polarity: 0.25, Sentimen: Positif\n",
            "'The food was great, but the service was really slow.'\n",
            "   Polarity: 0.25, Sentimen: Positif\n",
            "--------------------------------------------------\n",
            "\n",
            "--- Analisis Sentimen untuk Bahasa Indonesia ---\n",
            "TextBlob bekerja optimal untuk Bahasa Inggris. Untuk Bahasa Indonesia, \n",
            "Anda perlu pendekatan yang berbeda, seperti:\n",
            "1. Menggunakan kamus sentimen (leksikon) Bahasa Indonesia yang sudah ada.\n",
            "2. Melatih model Machine Learning atau Deep Learning Anda sendiri pada dataset berlabel Bahasa Indonesia.\n",
            "3. Menggunakan layanan API Sentimen dari pihak ketiga yang mendukung Bahasa Indonesia.\n",
            "Ini akan menjadi langkah yang lebih kompleks, memerlukan data berlabel atau leksikon spesifik.\n"
          ]
        }
      ]
    },
    {
      "cell_type": "markdown",
      "source": [
        "Penjelasan Kode Analisis Sentimen (TextBlob):\n",
        "1. from textblob import TextBlob: Mengimpor kelas TextBlob.\n",
        "\n",
        "2. analysis = TextBlob(text): Anda cukup membuat objek TextBlob dengan memasukkan teks Anda.\n",
        "\n",
        "3. analysis.sentiment.polarity: Objek TextBlob secara otomatis menghitung polarity (tingkat kepositifan/kenegatifan) dan subjectivity (tingkat objektivitas/subjektivitas) dari teks.\n",
        "\n",
        "4. polarity: Skor dari -1.0 (sangat negatif) hingga +1.0 (sangat positif).\n",
        "\n",
        "5. subjectivity: Skor dari 0.0 (sangat objektif) hingga +1.0 (sangat subjektif).\n",
        "\n",
        "6. Logika Penentuan Sentimen: Kita menggunakan ambang batas (misalnya, > 0.05 untuk positif, < -0.05 untuk negatif) untuk mengkategorikan polarity menjadi \"Positif\", \"Negatif\", atau \"Netral\"."
      ],
      "metadata": {
        "id": "YW5DnxgsY6Z2"
      }
    }
  ]
}