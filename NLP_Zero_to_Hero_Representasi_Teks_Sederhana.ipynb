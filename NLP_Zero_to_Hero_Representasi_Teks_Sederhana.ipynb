{
  "nbformat": 4,
  "nbformat_minor": 0,
  "metadata": {
    "colab": {
      "provenance": [],
      "authorship_tag": "ABX9TyNm4KPC2aXCFcVe8CshyAfP",
      "include_colab_link": true
    },
    "kernelspec": {
      "name": "python3",
      "display_name": "Python 3"
    },
    "language_info": {
      "name": "python"
    }
  },
  "cells": [
    {
      "cell_type": "markdown",
      "metadata": {
        "id": "view-in-github",
        "colab_type": "text"
      },
      "source": [
        "<a href=\"https://colab.research.google.com/github/odeandialamsyah/nlp_zero_to_hero/blob/main/NLP_Zero_to_Hero_Representasi_Teks_Sederhana.ipynb\" target=\"_parent\"><img src=\"https://colab.research.google.com/assets/colab-badge.svg\" alt=\"Open In Colab\"/></a>"
      ]
    },
    {
      "cell_type": "code",
      "execution_count": 1,
      "metadata": {
        "id": "4uG9S0zK_NLi"
      },
      "outputs": [],
      "source": [
        "# Import library yang dibutuhkan\n",
        "from sklearn.feature_extraction.text import CountVectorizer"
      ]
    },
    {
      "cell_type": "code",
      "source": [
        "# Contoh dokumen (setelah pra-pemrosesan awal, kita anggap sudah bersih)\n",
        "# Dalam praktik nyata, Anda akan menggunakan output dari langkah pra-pemrosesan sebelumnya\n",
        "dokumen = [\n",
        "    \"saya suka makan apel\",\n",
        "    \"saya suka pisang dan apel\",\n",
        "    \"kucing suka ikan\",\n",
        "    \"anjing suka bermain\"\n",
        "]\n",
        "\n",
        "print(f\"Dokumen Asli (setelah pra-pemrosesan): {dokumen}\\n\")"
      ],
      "metadata": {
        "colab": {
          "base_uri": "https://localhost:8080/"
        },
        "id": "8wzHqHp9_1z6",
        "outputId": "63de34f8-75b7-48d7-8bec-458b8ce7820e"
      },
      "execution_count": 2,
      "outputs": [
        {
          "output_type": "stream",
          "name": "stdout",
          "text": [
            "Dokumen Asli (setelah pra-pemrosesan): ['saya suka makan apel', 'saya suka pisang dan apel', 'kucing suka ikan', 'anjing suka bermain']\n",
            "\n"
          ]
        }
      ]
    },
    {
      "cell_type": "code",
      "source": [
        "# --- Membuat Model Bag-of-Words ---\n",
        "# Inisialisasi CountVectorizer\n",
        "# stop_words='english' bisa digunakan jika teksnya B.Inggris dan kita ingin menghapus stopwords otomatis.\n",
        "# analyzer='word' adalah default, berarti token adalah kata.\n",
        "# Contoh ini mengasumsikan dokumen sudah bersih dari stopwords\n",
        "vectorizer_bow = CountVectorizer()"
      ],
      "metadata": {
        "id": "kmZqUhjH_413"
      },
      "execution_count": 3,
      "outputs": []
    },
    {
      "cell_type": "code",
      "source": [
        "# Fitur learning dan transformasi data\n",
        "# fit_transform() akan:\n",
        "# 1. Membangun kamus dari semua kata unik di 'dokumen'.\n",
        "# 2. Menghitung frekuensi setiap kata untuk setiap dokumen.\n",
        "bow_matrix = vectorizer_bow.fit_transform(dokumen)\n",
        "\n",
        "# Mendapatkan nama fitur (yaitu, kata-kata dalam kamus)\n",
        "feature_names_bow = vectorizer_bow.get_feature_names_out()\n",
        "\n",
        "print(\"1. Representasi Bag-of-Words (BoW):\")\n",
        "print(\"   Kamus (Vocabulary):\", feature_names_bow)\n",
        "print(\"   Matriks BoW (Frekuensi Kata):\")\n",
        "print(bow_matrix.toarray()) # .toarray() untuk melihat representasi dense\n",
        "print(\"\\n\")\n",
        "\n",
        "# Mari kita coba memahami output untuk dokumen pertama: \"saya suka makan apel\"\n",
        "# Berdasarkan kamus: ['anjing' 'apel' 'bermain' 'dan' 'ikan' 'kucing' 'makan' 'pisang' 'saya' 'suka']\n",
        "# Dokumen pertama: \"saya suka makan apel\"\n",
        "# Frekuensi: anjing:0, apel:1, bermain:0, dan:0, ikan:0, kucing:0, makan:1, pisang:0, saya:1, suka:1\n",
        "# Hasilnya: [0 1 0 0 0 0 1 0 1 1] (sesuai urutan kamus)"
      ],
      "metadata": {
        "colab": {
          "base_uri": "https://localhost:8080/"
        },
        "id": "xgwxFNBT_8It",
        "outputId": "09ccddc0-691c-4938-a74a-a7088b5f29fc"
      },
      "execution_count": 4,
      "outputs": [
        {
          "output_type": "stream",
          "name": "stdout",
          "text": [
            "1. Representasi Bag-of-Words (BoW):\n",
            "   Kamus (Vocabulary): ['anjing' 'apel' 'bermain' 'dan' 'ikan' 'kucing' 'makan' 'pisang' 'saya'\n",
            " 'suka']\n",
            "   Matriks BoW (Frekuensi Kata):\n",
            "[[0 1 0 0 0 0 1 0 1 1]\n",
            " [0 1 0 1 0 0 0 1 1 1]\n",
            " [0 0 0 0 1 1 0 0 0 1]\n",
            " [1 0 1 0 0 0 0 0 0 1]]\n",
            "\n",
            "\n"
          ]
        }
      ]
    }
  ]
}